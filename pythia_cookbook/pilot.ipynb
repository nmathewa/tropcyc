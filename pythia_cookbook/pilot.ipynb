{
 "cells": [
  {
   "cell_type": "markdown",
   "id": "c70eaec1",
   "metadata": {},
   "source": [
    "# Libraries\n",
    "\n"
   ]
  },
  {
   "cell_type": "markdown",
   "id": "bad2e7a5",
   "metadata": {},
   "source": [
    "# Numpy"
   ]
  },
  {
   "cell_type": "code",
   "execution_count": 1,
   "id": "de87bc4d",
   "metadata": {},
   "outputs": [],
   "source": [
    "import numpy as np"
   ]
  },
  {
   "cell_type": "markdown",
   "id": "621b4e8d",
   "metadata": {},
   "source": [
    "### C"
   ]
  }
 ],
 "metadata": {
  "kernelspec": {
   "display_name": "nma",
   "language": "python",
   "name": "python3"
  },
  "language_info": {
   "codemirror_mode": {
    "name": "ipython",
    "version": 3
   },
   "file_extension": ".py",
   "mimetype": "text/x-python",
   "name": "python",
   "nbconvert_exporter": "python",
   "pygments_lexer": "ipython3",
   "version": "3.12.0"
  }
 },
 "nbformat": 4,
 "nbformat_minor": 5
}
